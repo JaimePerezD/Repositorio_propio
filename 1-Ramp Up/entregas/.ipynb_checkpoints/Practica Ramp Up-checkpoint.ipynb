{
 "cells": [
  {
   "cell_type": "markdown",
   "metadata": {},
   "source": [
    "# Entrega Ramp Up\n"
   ]
  },
  {
   "cell_type": "markdown",
   "metadata": {},
   "source": [
    "## Ejercicio 1\n",
    "#### Crear un programa que calcule la cuota de una hipoteca\n",
    "\n",
    "Las cuotas hipotecarias se calculan utilizando la fórmula del interés frances. El objetivo del ejercicio es crear un programa que solicite al usuario los datos de su hipoteca (cantidad, intereses, y plazo en años) y le devuelva la cuota mensual a pagar\n",
    "\n",
    "La formula del interés frances es la siguiente:\n",
    "\\begin{align*}\n",
    "C=V \\frac{(1+i)^n i}{(1+i)^n -1}\n",
    "\\end{align*}\n",
    "\n",
    "\n",
    "    C = Cuota a pagar\n",
    "    V = Cantidad del préstamo hipotecario\n",
    "    i = tipo de interés del período\n",
    "    n = número de cuotas\n",
    "\n"
   ]
  },
  {
   "cell_type": "code",
   "execution_count": 1,
   "metadata": {},
   "outputs": [
    {
     "name": "stdout",
     "output_type": "stream",
     "text": [
      "1517.650005135323\n"
     ]
    }
   ],
   "source": [
    "def cuota_hipoteca (v, i, n):\n",
    "    i = i/12\n",
    "    n = n*12\n",
    "    numerador = ((i*((1+i)**n)))\n",
    "    denominador = (((1+ i)**n)-1)   \n",
    "    division = numerador / denominador\n",
    "    resultado = division * v\n",
    "    return resultado\n",
    "\n",
    "print(cuota_hipoteca(300000, 0.02, 20))"
   ]
  },
  {
   "cell_type": "markdown",
   "metadata": {},
   "source": [
    "## Ejercicio 2\n",
    "#### Crear un programa que calcule el plan de amortización\n",
    "\n",
    "El objetivo del ejercicio es crear un programa que solicite al usuario los datos de su hipoteca (cantidad, intereses, y plazo en años) y le devuelva el plan de amortización.\n",
    "\n",
    "En cada cuota se pagan intereses por el capital restante, y se devuelve capital hasta la cuota mensual. El capital restante ha de ser actualizado restandole el capital devuelto.\n",
    "\n",
    "Salida ejemplo:\n",
    "\n",
    "mes  cuota  intereses  principal  pendiente   \n",
    "\n",
    "0  758.89   450.00   308.89   179691.11 \n"
   ]
  },
  {
   "cell_type": "code",
   "execution_count": 22,
   "metadata": {},
   "outputs": [
    {
     "name": "stdout",
     "output_type": "stream",
     "text": [
      "mes cuota intereses principal pendiente\n",
      "0 1517.65 500.0 1017.65 298982.35\n",
      "1 1517.65 498.3 1019.35 297963.0\n",
      "2 1517.65 496.61 1021.04 296941.96\n",
      "3 1517.65 494.9 1022.75 295919.21\n",
      "4 1517.65 493.2 1024.45 294894.76\n",
      "5 1517.65 491.49 1026.16 293868.6\n",
      "6 1517.65 489.78 1027.87 292840.73\n",
      "7 1517.65 488.07 1029.58 291811.15\n",
      "8 1517.65 486.35 1031.3 290779.85\n",
      "9 1517.65 484.63 1033.02 289746.84\n",
      "10 1517.65 482.91 1034.74 288712.1\n",
      "11 1517.65 481.19 1036.46 287675.63\n",
      "12 1517.65 479.46 1038.19 286637.44\n",
      "13 1517.65 477.73 1039.92 285597.52\n",
      "14 1517.65 476.0 1041.65 284555.87\n",
      "15 1517.65 474.26 1043.39 283512.48\n",
      "16 1517.65 472.52 1045.13 282467.35\n",
      "17 1517.65 470.78 1046.87 281420.48\n",
      "18 1517.65 469.03 1048.62 280371.86\n",
      "19 1517.65 467.29 1050.36 279321.5\n",
      "20 1517.65 465.54 1052.11 278269.38\n",
      "21 1517.65 463.78 1053.87 277215.52\n",
      "22 1517.65 462.03 1055.62 276159.89\n",
      "23 1517.65 460.27 1057.38 275102.51\n",
      "24 1517.65 458.5 1059.15 274043.36\n",
      "25 1517.65 456.74 1060.91 272982.45\n",
      "26 1517.65 454.97 1062.68 271919.77\n",
      "27 1517.65 453.2 1064.45 270855.32\n",
      "28 1517.65 451.43 1066.22 269789.1\n",
      "29 1517.65 449.65 1068.0 268721.1\n",
      "30 1517.65 447.87 1069.78 267651.32\n",
      "31 1517.65 446.09 1071.56 266579.75\n",
      "32 1517.65 444.3 1073.35 265506.4\n",
      "33 1517.65 442.51 1075.14 264431.26\n",
      "34 1517.65 440.72 1076.93 263354.33\n",
      "35 1517.65 438.92 1078.73 262275.6\n",
      "36 1517.65 437.13 1080.52 261195.08\n",
      "37 1517.65 435.33 1082.32 260112.75\n",
      "38 1517.65 433.52 1084.13 259028.63\n",
      "39 1517.65 431.71 1085.94 257942.69\n",
      "40 1517.65 429.9 1087.75 256854.94\n",
      "41 1517.65 428.09 1089.56 255765.39\n",
      "42 1517.65 426.28 1091.37 254674.01\n",
      "43 1517.65 424.46 1093.19 253580.82\n",
      "44 1517.65 422.63 1095.02 252485.8\n",
      "45 1517.65 420.81 1096.84 251388.96\n",
      "46 1517.65 418.98 1098.67 250290.29\n",
      "47 1517.65 417.15 1100.5 249189.79\n",
      "48 1517.65 415.32 1102.33 248087.46\n",
      "49 1517.65 413.48 1104.17 246983.29\n",
      "50 1517.65 411.64 1106.01 245877.28\n",
      "51 1517.65 409.8 1107.85 244769.42\n",
      "52 1517.65 407.95 1109.7 243659.72\n",
      "53 1517.65 406.1 1111.55 242548.17\n",
      "54 1517.65 404.25 1113.4 241434.77\n",
      "55 1517.65 402.39 1115.26 240319.51\n",
      "56 1517.65 400.53 1117.12 239202.39\n",
      "57 1517.65 398.67 1118.98 238083.41\n",
      "58 1517.65 396.81 1120.84 236962.57\n",
      "59 1517.65 394.94 1122.71 235839.86\n",
      "60 1517.65 393.07 1124.58 234715.27\n",
      "61 1517.65 391.19 1126.46 233588.82\n",
      "62 1517.65 389.31 1128.34 232460.48\n",
      "63 1517.65 387.43 1130.22 231330.27\n",
      "64 1517.65 385.55 1132.1 230198.17\n",
      "65 1517.65 383.66 1133.99 229064.18\n",
      "66 1517.65 381.77 1135.88 227928.3\n",
      "67 1517.65 379.88 1137.77 226790.53\n",
      "68 1517.65 377.98 1139.67 225650.87\n",
      "69 1517.65 376.08 1141.57 224509.3\n",
      "70 1517.65 374.18 1143.47 223365.83\n",
      "71 1517.65 372.28 1145.37 222220.46\n",
      "72 1517.65 370.37 1147.28 221073.18\n",
      "73 1517.65 368.46 1149.19 219923.98\n",
      "74 1517.65 366.54 1151.11 218772.87\n",
      "75 1517.65 364.62 1153.03 217619.85\n",
      "76 1517.65 362.7 1154.95 216464.89\n",
      "77 1517.65 360.77 1156.88 215308.02\n",
      "78 1517.65 358.85 1158.8 214149.22\n",
      "79 1517.65 356.92 1160.73 212988.48\n",
      "80 1517.65 354.98 1162.67 211825.81\n",
      "81 1517.65 353.04 1164.61 210661.21\n",
      "82 1517.65 351.1 1166.55 209494.66\n",
      "83 1517.65 349.16 1168.49 208326.17\n",
      "84 1517.65 347.21 1170.44 207155.73\n",
      "85 1517.65 345.26 1172.39 205983.34\n",
      "86 1517.65 343.31 1174.34 204808.99\n",
      "87 1517.65 341.35 1176.3 203632.69\n",
      "88 1517.65 339.39 1178.26 202454.43\n",
      "89 1517.65 337.42 1180.23 201274.2\n",
      "90 1517.65 335.46 1182.19 200092.01\n",
      "91 1517.65 333.49 1184.16 198907.84\n",
      "92 1517.65 331.51 1186.14 197721.71\n",
      "93 1517.65 329.54 1188.11 196533.59\n",
      "94 1517.65 327.56 1190.09 195343.5\n",
      "95 1517.65 325.57 1192.08 194151.42\n",
      "96 1517.65 323.59 1194.06 192957.36\n",
      "97 1517.65 321.6 1196.05 191761.3\n",
      "98 1517.65 319.6 1198.05 190563.26\n",
      "99 1517.65 317.61 1200.04 189363.21\n",
      "100 1517.65 315.61 1202.04 188161.17\n",
      "101 1517.65 313.6 1204.05 186957.12\n",
      "102 1517.65 311.6 1206.05 185751.06\n",
      "103 1517.65 309.59 1208.06 184543.0\n",
      "104 1517.65 307.57 1210.08 183332.92\n",
      "105 1517.65 305.55 1212.1 182120.83\n",
      "106 1517.65 303.53 1214.12 180906.71\n",
      "107 1517.65 301.51 1216.14 179690.57\n",
      "108 1517.65 299.48 1218.17 178472.41\n",
      "109 1517.65 297.45 1220.2 177252.21\n",
      "110 1517.65 295.42 1222.23 176029.98\n",
      "111 1517.65 293.38 1224.27 174805.71\n",
      "112 1517.65 291.34 1226.31 173579.41\n",
      "113 1517.65 289.3 1228.35 172351.05\n",
      "114 1517.65 287.25 1230.4 171120.66\n",
      "115 1517.65 285.2 1232.45 169888.21\n",
      "116 1517.65 283.15 1234.5 168653.7\n",
      "117 1517.65 281.09 1236.56 167417.14\n",
      "118 1517.65 279.03 1238.62 166178.52\n",
      "119 1517.65 276.96 1240.69 164937.84\n",
      "120 1517.65 274.9 1242.75 163695.08\n",
      "121 1517.65 272.83 1244.82 162450.26\n",
      "122 1517.65 270.75 1246.9 161203.36\n",
      "123 1517.65 268.67 1248.98 159954.38\n",
      "124 1517.65 266.59 1251.06 158703.32\n",
      "125 1517.65 264.51 1253.14 157450.18\n",
      "126 1517.65 262.42 1255.23 156194.94\n",
      "127 1517.65 260.32 1257.33 154937.62\n",
      "128 1517.65 258.23 1259.42 153678.2\n",
      "129 1517.65 256.13 1261.52 152416.68\n",
      "130 1517.65 254.03 1263.62 151153.06\n",
      "131 1517.65 251.92 1265.73 149887.33\n",
      "132 1517.65 249.81 1267.84 148619.49\n",
      "133 1517.65 247.7 1269.95 147349.54\n",
      "134 1517.65 245.58 1272.07 146077.47\n",
      "135 1517.65 243.46 1274.19 144803.28\n",
      "136 1517.65 241.34 1276.31 143526.97\n",
      "137 1517.65 239.21 1278.44 142248.54\n",
      "138 1517.65 237.08 1280.57 140967.97\n",
      "139 1517.65 234.95 1282.7 139685.26\n",
      "140 1517.65 232.81 1284.84 138400.42\n",
      "141 1517.65 230.67 1286.98 137113.44\n",
      "142 1517.65 228.52 1289.13 135824.31\n",
      "143 1517.65 226.37 1291.28 134533.04\n",
      "144 1517.65 224.22 1293.43 133239.61\n",
      "145 1517.65 222.07 1295.58 131944.02\n",
      "146 1517.65 219.91 1297.74 130646.28\n",
      "147 1517.65 217.74 1299.91 129346.37\n",
      "148 1517.65 215.58 1302.07 128044.3\n",
      "149 1517.65 213.41 1304.24 126740.06\n",
      "150 1517.65 211.23 1306.42 125433.64\n",
      "151 1517.65 209.06 1308.59 124125.05\n",
      "152 1517.65 206.88 1310.77 122814.27\n",
      "153 1517.65 204.69 1312.96 121501.31\n",
      "154 1517.65 202.5 1315.15 120186.16\n",
      "155 1517.65 200.31 1317.34 118868.83\n",
      "156 1517.65 198.11 1319.54 117549.29\n",
      "157 1517.65 195.92 1321.73 116227.56\n",
      "158 1517.65 193.71 1323.94 114903.62\n",
      "159 1517.65 191.51 1326.14 113577.47\n",
      "160 1517.65 189.3 1328.35 112249.12\n",
      "161 1517.65 187.08 1330.57 110918.55\n",
      "162 1517.65 184.86 1332.79 109585.77\n",
      "163 1517.65 182.64 1335.01 108250.76\n",
      "164 1517.65 180.42 1337.23 106913.53\n",
      "165 1517.65 178.19 1339.46 105574.07\n",
      "166 1517.65 175.96 1341.69 104232.37\n",
      "167 1517.65 173.72 1343.93 102888.44\n",
      "168 1517.65 171.48 1346.17 101542.27\n",
      "169 1517.65 169.24 1348.41 100193.86\n",
      "170 1517.65 166.99 1350.66 98843.2\n",
      "171 1517.65 164.74 1352.91 97490.29\n",
      "172 1517.65 162.48 1355.17 96135.12\n",
      "173 1517.65 160.23 1357.42 94777.7\n",
      "174 1517.65 157.96 1359.69 93418.01\n",
      "175 1517.65 155.7 1361.95 92056.06\n",
      "176 1517.65 153.43 1364.22 90691.83\n",
      "177 1517.65 151.15 1366.5 89325.34\n",
      "178 1517.65 148.88 1368.77 87956.56\n",
      "179 1517.65 146.59 1371.06 86585.51\n",
      "180 1517.65 144.31 1373.34 85212.17\n",
      "181 1517.65 142.02 1375.63 83836.54\n",
      "182 1517.65 139.73 1377.92 82458.61\n",
      "183 1517.65 137.43 1380.22 81078.4\n",
      "184 1517.65 135.13 1382.52 79695.88\n",
      "185 1517.65 132.83 1384.82 78311.05\n",
      "186 1517.65 130.52 1387.13 76923.92\n",
      "187 1517.65 128.21 1389.44 75534.48\n",
      "188 1517.65 125.89 1391.76 74142.72\n",
      "189 1517.65 123.57 1394.08 72748.64\n",
      "190 1517.65 121.25 1396.4 71352.24\n",
      "191 1517.65 118.92 1398.73 69953.51\n",
      "192 1517.65 116.59 1401.06 68552.45\n",
      "193 1517.65 114.25 1403.4 67149.05\n",
      "194 1517.65 111.92 1405.73 65743.32\n",
      "195 1517.65 109.57 1408.08 64335.24\n",
      "196 1517.65 107.23 1410.42 62924.81\n",
      "197 1517.65 104.87 1412.78 61512.04\n",
      "198 1517.65 102.52 1415.13 60096.91\n",
      "199 1517.65 100.16 1417.49 58679.42\n",
      "200 1517.65 97.8 1419.85 57259.57\n",
      "201 1517.65 95.43 1422.22 55837.35\n",
      "202 1517.65 93.06 1424.59 54412.76\n",
      "203 1517.65 90.69 1426.96 52985.8\n",
      "204 1517.65 88.31 1429.34 51556.46\n",
      "205 1517.65 85.93 1431.72 50124.74\n",
      "206 1517.65 83.54 1434.11 48690.63\n",
      "207 1517.65 81.15 1436.5 47254.13\n",
      "208 1517.65 78.76 1438.89 45815.24\n",
      "209 1517.65 76.36 1441.29 44373.95\n",
      "210 1517.65 73.96 1443.69 42930.25\n",
      "211 1517.65 71.55 1446.1 41484.15\n",
      "212 1517.65 69.14 1448.51 40035.64\n",
      "213 1517.65 66.73 1450.92 38584.72\n",
      "214 1517.65 64.31 1453.34 37131.38\n",
      "215 1517.65 61.89 1455.76 35675.61\n",
      "216 1517.65 59.46 1458.19 34217.42\n",
      "217 1517.65 57.03 1460.62 32756.8\n",
      "218 1517.65 54.59 1463.06 31293.75\n",
      "219 1517.65 52.16 1465.49 29828.25\n",
      "220 1517.65 49.71 1467.94 28360.32\n",
      "221 1517.65 47.27 1470.38 26889.93\n",
      "222 1517.65 44.82 1472.83 25417.1\n",
      "223 1517.65 42.36 1475.29 23941.81\n",
      "224 1517.65 39.9 1477.75 22464.07\n",
      "225 1517.65 37.44 1480.21 20983.86\n",
      "226 1517.65 34.97 1482.68 19501.18\n",
      "227 1517.65 32.5 1485.15 18016.03\n",
      "228 1517.65 30.03 1487.62 16528.41\n",
      "229 1517.65 27.55 1490.1 15038.3\n",
      "230 1517.65 25.06 1492.59 13545.72\n",
      "231 1517.65 22.58 1495.07 12050.64\n",
      "232 1517.65 20.08 1497.57 10553.08\n",
      "233 1517.65 17.59 1500.06 9053.02\n",
      "234 1517.65 15.09 1502.56 7550.46\n",
      "235 1517.65 12.58 1505.07 6045.39\n",
      "236 1517.65 10.08 1507.57 4537.82\n",
      "237 1517.65 7.56 1510.09 3027.73\n",
      "238 1517.65 5.05 1512.6 1515.12\n",
      "239 1517.65 2.53 1515.12 0.0\n"
     ]
    },
    {
     "data": {
      "text/plain": [
       "'\\nfor _ in range(meses):\\n    print(cuota)\\n'"
      ]
     },
     "execution_count": 22,
     "metadata": {},
     "output_type": "execute_result"
    }
   ],
   "source": [
    "anios = 20\n",
    "cuota = cuota_hipoteca (300000, 0.02, anios)\n",
    "\n",
    "\n",
    "meses = 12 * anios\n",
    "pendiente_mes0 = 300000\n",
    "\n",
    "print('mes', 'cuota', 'intereses', 'principal', 'pendiente') #Cabecera(nombres)\n",
    "for mes in range(meses):\n",
    "    intereses = pendiente_mes0 * interes\n",
    "    principal = cuota - intereses\n",
    "    pendiente_mes0 = pendiente_mes0 - principal\n",
    "    print(mes, round(cuota, 2), round(intereses, 2), round(principal, 2), round(pendiente_mes0, 2))\n",
    "    \n"
   ]
  },
  {
   "cell_type": "markdown",
   "metadata": {},
   "source": [
    "## Ejercicio 3\n",
    "#### Crear un programa que resuelva una ecuacción de segundo grado\n",
    "\n",
    "El objetivo del programa es resolver la ecuacción de sgundo grado \n",
    "\n",
    "\\begin{align*}\n",
    "ax^2+bx+c = 0\n",
    "\\end{align*}\n",
    "\n",
    "Pasando como parámetros los coeficientes de la ecuacción. La resolución de la ecuacción es la siguiente:\n",
    "\n",
    "\\begin{align*}\n",
    "x=\\frac{-b \\pm \\sqrt{b^2-4ac}}{2a}\n",
    "\\end{align*}\n",
    "\n",
    "Para realizar este programa tienes que utilizar el metodo sqrt() para calcular la raiz cuadrada. Para ello tienes que importar el módulo math. Así que tu programa debería empezar con ```ìmport math```\n"
   ]
  },
  {
   "cell_type": "code",
   "execution_count": 113,
   "metadata": {},
   "outputs": [
    {
     "name": "stdin",
     "output_type": "stream",
     "text": [
      "Valor de a:  2\n",
      "Valor de b:  5\n",
      "Valor de c:  2\n"
     ]
    },
    {
     "name": "stdout",
     "output_type": "stream",
     "text": [
      "Soluciones x1=-0.500 y x2=-0.500\n"
     ]
    }
   ],
   "source": [
    "from math import sqrt\n",
    "\n",
    "a = float(input('Valor de a: '))\n",
    "b = float(input('Valor de b: '))\n",
    "c = float(input('Valor de c: '))\n",
    "\n",
    "try:\n",
    "    if a != 0:\n",
    "        \n",
    "        x1 = (-b + sqrt(b**2 - 4*a*c)) / (2 * a)\n",
    "        x2 = (-b + sqrt(b**2 - 4*a*c)) / (2 * a)\n",
    "    \n",
    "        if x1 == 0 and x2 == 0:\n",
    "            print('Solución: x=%4.3f' % x1)\n",
    "        else:\n",
    "            print('Soluciones x1=%4.3f y x2=%4.3f' %(x1,x2))\n",
    "    else:\n",
    "        if b != 0:\n",
    "            x = -c/b\n",
    "            print('Solución: x=%4.3f' % x)\n",
    "        else:\n",
    "            if c != 0:\n",
    "                print('La ecuacion no tiene solución')\n",
    "            else:\n",
    "                print('La ecuación tiene infinitas soluciones')\n",
    "\n",
    "except:\n",
    "    print('Sin solución: No se puede realizar la ecuación con los datos introducidos')\n",
    "                  "
   ]
  },
  {
   "cell_type": "markdown",
   "metadata": {},
   "source": [
    "## Ejercicio 4\n",
    "#### Crear un programa que calcule el average\n",
    "\n",
    "El programa pedirá al usuario que introduzca numeros. En primer lugar le pedirá que indique cuantos números se quieren introducir, y enseñara un prompt para incluirlos, y calculará el average.\n",
    "\n"
   ]
  },
  {
   "cell_type": "code",
   "execution_count": 25,
   "metadata": {},
   "outputs": [
    {
     "name": "stdin",
     "output_type": "stream",
     "text": [
      "Introduzca el numero de elementos que va a utlizar: 4\n"
     ]
    },
    {
     "name": "stdout",
     "output_type": "stream",
     "text": [
      "introduzca esos 4 numeros\n"
     ]
    },
    {
     "name": "stdin",
     "output_type": "stream",
     "text": [
      " 2\n",
      " 4\n",
      " 3\n",
      " 4\n"
     ]
    },
    {
     "name": "stdout",
     "output_type": "stream",
     "text": [
      "3.25\n"
     ]
    }
   ],
   "source": [
    "## average = sum(orders) / len(orders)\n",
    "\n",
    "\n",
    "\n",
    "numeros_total = int(input('Introduzca el numero de elementos que va a utlizar:'))\n",
    "print('introduzca esos', numeros_total, 'numeros')\n",
    "\n",
    "\n",
    "contador = 0\n",
    "suma_total = 0\n",
    "\n",
    "while contador < numeros_total:\n",
    "    nuevos_numeros = int(input())\n",
    "    suma_total = suma_total + nuevos_numeros\n",
    "    contador = contador + 1\n",
    "average = suma_total / numeros_total\n",
    "\n",
    "print(average)"
   ]
  },
  {
   "cell_type": "markdown",
   "metadata": {},
   "source": [
    "## Ejercicio 5\n",
    "#### Crear un programa que calcule el average II\n",
    "\n",
    "El programa pedirá que se diga cuantos números se quieren introducir, y enseñara un prompt para incluirl número a número en una lista, y calcule después el average.\n"
   ]
  },
  {
   "cell_type": "code",
   "execution_count": 36,
   "metadata": {},
   "outputs": [
    {
     "name": "stdin",
     "output_type": "stream",
     "text": [
      "Introduzca el numero de elementos que va a utlizar: 2\n"
     ]
    },
    {
     "name": "stdout",
     "output_type": "stream",
     "text": [
      "introduzca esos 2 numeros\n"
     ]
    },
    {
     "name": "stdin",
     "output_type": "stream",
     "text": [
      " 1\n"
     ]
    },
    {
     "name": "stdout",
     "output_type": "stream",
     "text": [
      "[1]\n"
     ]
    },
    {
     "name": "stdin",
     "output_type": "stream",
     "text": [
      " 2\n"
     ]
    },
    {
     "name": "stdout",
     "output_type": "stream",
     "text": [
      "[1, 2]\n",
      "1.5\n"
     ]
    }
   ],
   "source": [
    "numeros_total = int(input('Introduzca el numero de elementos que va a utlizar:'))\n",
    "print('introduzca esos', numeros_total, 'numeros')\n",
    "\n",
    "\n",
    "contador = 0\n",
    "suma_total = 0\n",
    "k = []\n",
    "\n",
    "\n",
    "while contador < numeros_total:\n",
    "    nuevos_numeros = int(input())\n",
    "    suma_total = suma_total + nuevos_numeros\n",
    "    contador = contador + 1\n",
    "    \n",
    "    k.append(nuevos_numeros)\n",
    "\n",
    "    print(k)\n",
    "average = sum(k) / len(k)\n",
    "\n",
    "print(average)"
   ]
  },
  {
   "cell_type": "markdown",
   "metadata": {},
   "source": [
    "## Ejercicio 6\n",
    "#### Write a Python program to convert a list of characters into a string.\n",
    "\n",
    "Sample list : ['a','b','c','d']\n",
    "\n",
    "Expected output : abcd"
   ]
  },
  {
   "cell_type": "code",
   "execution_count": 7,
   "metadata": {},
   "outputs": [
    {
     "name": "stdout",
     "output_type": "stream",
     "text": [
      "abcd\n"
     ]
    }
   ],
   "source": [
    "s = ['a','b','c','d']\n",
    "str1 = ''.join(s)\n",
    "print(str1)"
   ]
  },
  {
   "cell_type": "markdown",
   "metadata": {},
   "source": [
    "## Ejercicio 7\n",
    "#### First and last 5\n",
    "Write a Python program to generate and print a list of first and last 5 elements where the values are square of numbers between 1 and 30 (both included). "
   ]
  },
  {
   "cell_type": "code",
   "execution_count": 18,
   "metadata": {},
   "outputs": [
    {
     "name": "stdout",
     "output_type": "stream",
     "text": [
      "[1, 4, 9, 16, 25]\n",
      "[625, 676, 729, 784, 841]\n"
     ]
    }
   ],
   "source": [
    "def printValues():\n",
    "    l = list()\n",
    "    \n",
    "    for i in range(1,30):\n",
    "        l.append(i**2)\n",
    "        \n",
    "    print(l[:5])\n",
    "    \n",
    "    print(l[-5:])\n",
    "    \n",
    "\n",
    "printValues()"
   ]
  },
  {
   "cell_type": "markdown",
   "metadata": {},
   "source": [
    "## Ejercicio 8\n",
    "#### Interactuando con listas\n",
    "\n",
    "From given list gadgets = [“Mobile”, “Laptop”, 100, “Camera”, 310.28, “Speakers”, 27.00,\n",
    "“Television”, 1000, “Laptop Case”, “Camera Lens”]\n",
    "\n",
    "a)create separate lists of strings and numbers.  \n",
    "\n",
    "b)Sort the strings list in ascending order  \n",
    "\n",
    "c)Sort the strings list in descending order  \n",
    "\n",
    "d)Sort the number list from lowest to highest  \n",
    "\n",
    "e)Sort the number list from highest to lowest"
   ]
  },
  {
   "cell_type": "code",
   "execution_count": 63,
   "metadata": {},
   "outputs": [
    {
     "name": "stdout",
     "output_type": "stream",
     "text": [
      "[100, 310.28, 27.0, 1000]\n",
      "['Mobile', 'Laptop', 'Camera', 'Speakers', 'Television', 'Laptop Case', 'Camera Lens']\n",
      "['Camera', 'Camera Lens', 'Laptop', 'Laptop Case', 'Mobile', 'Speakers', 'Television']\n",
      "['Television', 'Speakers', 'Mobile', 'Laptop Case', 'Laptop', 'Camera Lens', 'Camera']\n",
      "[27.0, 100, 310.28, 1000]\n",
      "[1000, 310.28, 100, 27.0]\n"
     ]
    }
   ],
   "source": [
    "gadgets = ['Mobile', 'Laptop', 100, 'Camera', 310.28, 'Speakers', 27.00,\n",
    "'Television', 1000, 'Laptop Case', 'Camera Lens']\n",
    "\n",
    "\n",
    "\n",
    "#a\n",
    "IntGadgets = [x for x in gadgets if (isinstance(x, float) or isinstance(x, int))]\n",
    "print(IntGadgets)\n",
    "\n",
    "StrGadgets = [x for x in gadgets if isinstance(x, str)]\n",
    "print(StrGadgets)\n",
    "\n",
    "#b\n",
    "\n",
    "StrGadgets.sort()\n",
    "print(StrGadgets)\n",
    "\n",
    "#c\n",
    "StrGadgets.sort(reverse = True)\n",
    "print(StrGadgets)\n",
    "\n",
    "#d\n",
    "IntGadgets.sort()\n",
    "print(IntGadgets)\n",
    "\n",
    "#e\n",
    "IntGadgets.sort(reverse = True)\n",
    "print(IntGadgets)"
   ]
  },
  {
   "cell_type": "markdown",
   "metadata": {},
   "source": [
    "## Ejercicio 9\n",
    "#### Get first, second best scores from the list.\n",
    "\n",
    "List may contain duplicates.\n",
    "\n",
    "Ex: [86,86,85,85,85,83,23,45,84,1,2,0] => should get 86, 85"
   ]
  },
  {
   "cell_type": "code",
   "execution_count": 76,
   "metadata": {},
   "outputs": [
    {
     "name": "stdout",
     "output_type": "stream",
     "text": [
      "{0, 1, 2, 45, 83, 84, 85, 86, 23}\n",
      "[0, 1, 2, 45, 83, 84, 85, 86, 23]\n",
      "[86, 85, 84, 83, 45, 23, 2, 1, 0]\n",
      "86\n",
      "85\n"
     ]
    }
   ],
   "source": [
    "x = [86, 86, 85, 85, 85, 83, 23, 45, 84, 1, 2, 0]\n",
    "y = set(x)\n",
    "print(y)\n",
    "\n",
    "z = list(y)\n",
    "print(z)\n",
    "\n",
    "z.sort(reverse = True)\n",
    "print(z)\n",
    "\n",
    "print(z[0])\n",
    "print(z[1])\n",
    "\n",
    "\n",
    "#index es para buscar un elemento en la lista y decirme en que posicion esta"
   ]
  },
  {
   "cell_type": "markdown",
   "metadata": {},
   "source": [
    "## Ejercicio 10\n",
    "#### Write a program that detects if a string is a palindrome\n",
    "Ask the user for a string and print out whether this string is a palindrome or not. (A palindrome is a string that reads the same forwards and backwards.)"
   ]
  },
  {
   "cell_type": "code",
   "execution_count": 26,
   "metadata": {},
   "outputs": [
    {
     "name": "stdin",
     "output_type": "stream",
     "text": [
      "Dime una palabra: reconocer\n"
     ]
    },
    {
     "name": "stdout",
     "output_type": "stream",
     "text": [
      "Esto es un Palíndromo\n"
     ]
    }
   ],
   "source": [
    "#bucle \n",
    "\n",
    "#Funcion de string\n",
    "\n",
    "def reverse(string):\n",
    "    \n",
    "    x = ''\n",
    "    \n",
    "    for i in range(len(string)):\n",
    "        x += word[len(string)-1-i]\n",
    "    \n",
    "    return x\n",
    "\n",
    "word = input('Dime una palabra:')\n",
    "\n",
    "x = reverse(word)\n",
    "\n",
    "if x == word:\n",
    "    print('Esto es un Palíndromo')\n",
    "    \n",
    "else:\n",
    "    print('Esto NO es un Palíndromo')"
   ]
  }
 ],
 "metadata": {
  "kernelspec": {
   "display_name": "Python 3",
   "language": "python",
   "name": "python3"
  },
  "language_info": {
   "codemirror_mode": {
    "name": "ipython",
    "version": 3
   },
   "file_extension": ".py",
   "mimetype": "text/x-python",
   "name": "python",
   "nbconvert_exporter": "python",
   "pygments_lexer": "ipython3",
   "version": "3.8.3"
  }
 },
 "nbformat": 4,
 "nbformat_minor": 4
}
